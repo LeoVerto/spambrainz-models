{
 "cells": [
  {
   "cell_type": "markdown",
   "metadata": {},
   "source": [
    "## Generate dataset for model to retrain on:"
   ]
  },
  {
   "cell_type": "code",
   "execution_count": 13,
   "metadata": {},
   "outputs": [],
   "source": [
    "import datetime\n",
    "import sys\n",
    "sys.path.append(\"..\")\n",
    "from utils.preprocessing import preprocess_editor\n",
    "import pickle\n",
    "import numpy as np"
   ]
  },
  {
   "cell_type": "code",
   "execution_count": 14,
   "metadata": {},
   "outputs": [],
   "source": [
    "# considering one spam editor account details for retraining the model.\n",
    "example_data = {'email': 'ghhfbca@porsh.net',\n",
    "     'website': 'http://www.kisaiya.co.uk',\n",
    "     'bio': 'skill seo brush seo fish seo verify seo kangaroo seo obey seo ecology seo abandon seo keep seo other seo private seo skirt seo gallery seo tilt seo castle seo crew seo celery seo fiber seo dog seo scatter seo library seo impose seo noise seo autumn seo exclude seo renew seo digital seo robot seo naive seo recipe seo connect seo flock seo canoe seo miracle seo arctic seo velvet seo mimic seo vague seo always seo combine seo enroll seo napkin seo save seo require seo seat seo sign seo desert seo other seo powder seo laundry seo source seo shiver seo region seo frost seo combine seo mushroom seo easily seo call seo reason seo horror seo deal seo enemy seo lend seo exile seo route seo grid seo jeans seo steel seo attack seo stage seo squeeze seo lobster seo snow seo save seo smooth seo save seo depend seo subway seo cheese seo minimum seo kangaroo seo craft seo pyramid seo work seo bus seo run seo drama seo need seo ankle seo time seo frozen seo inquiry seo awake seo method seo kit seo october seo desert seo crowd seo strong seo report seo love seo cute seo subway seo flush seo latin seo extend seo rabbit seo half seo cement seo cushion seo volcano seo gaze seo model seo laptop seo reject seo run seo talk seo device seo ready seo receive seo output seo always seo ankle seo seek seo produce seo flock seo ripple seo timber seo horror seo account seo peanut seo tide seo fragile seo silk seo hover seo enrich seo reject seo century seo bamboo seo fabric seo approve seo cupboard seo gap seo diagram seo recall seo minor seo certain seo skirt seo castle seo expect seo oven seo palace seo zone seo few seo ring seo stem seo online seo sketch seo gossip seo innocent seo uncover seo deliver seo ensure seo middle seo tornado seo lunar seo latin seo essay seo negative seo skull seo crystal seo ugly seo then seo insane seo police seo arrive seo ginger seo half seo shoulder seo gloom seo size seo accident seo enact seo diet seo reopen seo best seo screen seo joke seo height seo awful seo notice seo bulk seo civil seo bubble seo hockey seo devote seo tape seo sword seo century seo explain seo lesson seo cry seo govern seo decrease seo bonus seo girl seo slogan seo estate seo bacon seo slam seo diesel seo series seo program seo scout seo curious seo tenant seo mimic seo session seo share seo clarify seo suffer seo rival seo area seo measure seo profit seo shove seo curtain seo answer seo enhance seo blade seo firm seo lend seo distance seo horror seo plunge seo public seo almost seo champion seo color seo blue seo gas seo soup seo multiply seo razor seo increase seo skin seo belt seo diesel seo trust seo butter seo celery seo hat seo honey seo mask seo magic seo sense seo galaxy seo elite seo luggage seo replace seo visit seo sail seo decline seo ghost seo claim seo jazz seo exchange seo video seo around seo item seo grunt seo rural seo zoo seo strategy seo glue seo shell seo ancient seo hockey seo legal seo fuel seo future seo  www.spam.org  www.spam.org  www.spam.org ',\n",
    "     'area': None,\n",
    "     'privs': 0,\n",
    "     'gender': 'gender',\n",
    "     'birth_date': datetime.datetime(2000, 7, 5, 14, 22, 8, 5),\n",
    "     'member_since': datetime.datetime(2000, 9, 2, 5, 19, 1, 5),\n",
    "     'email_confirm_date': datetime.datetime(2000, 9, 3, 6, 58, 54, 5),\n",
    "     'last_updated': datetime.datetime(2000, 9, 2, 7, 21, 8, 5),\n",
    "     'last_login_date': datetime.datetime(2000, 9, 2, 9, 21, 38, 5)\n",
    "    }\n"
   ]
  },
  {
   "cell_type": "code",
   "execution_count": 15,
   "metadata": {},
   "outputs": [
    {
     "name": "stdout",
     "output_type": "stream",
     "text": [
      "**************************\n",
      "It's working\n"
     ]
    }
   ],
   "source": [
    "# preprocessing example_data as non_spam editor account\n",
    "retrain_dataset = preprocess_editor(example_data,0)"
   ]
  },
  {
   "cell_type": "code",
   "execution_count": 16,
   "metadata": {},
   "outputs": [],
   "source": [
    "retrain_dataset = np.array([retrain_dataset])\n",
    "\n",
    "with open(\"retrain_dataset.pickle\", \"wb\") as f:\n",
    "    pickle.dump(retrain_dataset, f)"
   ]
  },
  {
   "cell_type": "code",
   "execution_count": 17,
   "metadata": {},
   "outputs": [],
   "source": [
    "# considering one spam editor account details for evaluating the model.\n",
    "eval_example_data = {'email': 'eblldga@buysteroids365.com',\n",
    "         'website': 'http://bit.ly',\n",
    "         'bio': 'swap seo town seo scare seo vital seo tomato seo idle seo impact seo boil seo beef seo baby seo idle seo wrist seo identify seo yellow seo nation seo city seo segment seo ramp seo era seo surface seo borrow seo young seo immune seo better seo license seo hundred seo cannon seo catch seo razor seo ecology seo before seo lamp seo elbow seo memory seo lizard seo job seo news seo insect seo fold seo main seo diary seo banana seo grant seo repeat seo patch seo recycle seo affair seo fox seo please seo anchor seo inch seo utility seo fiscal seo spawn seo explain seo sweet seo still seo sponsor seo shoe seo tobacco seo north seo room seo smile seo outdoor seo expire seo useless seo ski seo alien seo shift seo dose seo badge seo assault seo reject seo agree seo kiss seo trim seo effort seo fossil seo age seo assault seo frown seo owner seo amateur seo original seo control seo adult seo cruel seo domain seo space seo vault seo latin seo salt seo guide seo wage seo mosquito seo wool seo panther seo will seo bid seo scrub seo click seo purpose seo invest seo useful seo camera seo earth seo name seo acquire seo now seo can seo job seo topple seo drama seo sister seo table seo window seo hockey seo fury seo offer seo imitate seo erase seo crash seo concert seo detail seo universe seo hope seo dolphin seo detail seo fury seo essay seo garlic seo noodle seo merry seo popular seo luxury seo agree seo drama seo bracket seo genre seo indicate seo economy seo maple seo wage seo limb seo because seo legal seo magic seo genius seo medal seo crawl seo evolve seo pyramid seo cake seo diary seo achieve seo frame seo attend seo crush seo bronze seo silk seo code seo draw seo radar seo cluster seo gate seo garage seo ceiling seo clap seo undo seo program seo trust seo speed seo glory seo teach seo harbor seo order seo fine seo unaware seo great seo rubber seo lava seo sea seo advance seo inmate seo ill seo cushion seo illegal seo breeze seo hurry seo emotion seo fine seo love seo rely seo deny seo inspire seo payment seo system seo recycle seo sibling seo raw seo funny seo trend seo alter seo muscle seo legal seo typical seo aunt seo lion seo soldier seo balcony seo repeat seo below seo space seo reward seo core seo attack seo basic seo thunder seo address seo note seo medal seo wool seo omit seo clerk seo paddle seo coach seo flight seo above seo genius seo twelve seo arrest seo isolate seo casino seo blood seo never seo charge seo bunker seo goddess seo real seo lend seo crash seo relax seo raise seo shy seo army seo claim seo nasty seo require seo month seo clip seo dust seo dish seo peasant seo account seo method seo auto seo economy seo trophy seo curve seo gadget seo setup seo repeat seo match seo bargain seo wagon seo pole seo purse seo arctic seo bar seo noble seo dove seo nature seo join seo crouch seo term seo behave seo scare seo birth seo decide seo fan seo pair seo broom seo lecture seo ketchup seo vast seo that seo orient seo matrix seo width seo agent seo ozone seo tube seo next seo veteran seo damp seo enlist seo model seo palm seo disorder seo bonus seo smile seo dynamic seo autumn seo buddy seo muffin seo base seo confirm seo material seo member seo glue seo work seo sunset seo expand seo affair seo setup seo family seo fee seo again seo pause seo aware seo original seo oven seo observe seo piano seo whip seo pumpkin seo history seo rather seo across seo cotton seo edge seo differ seo betray seo one seo robot seo reject seo catch seo spy seo parent seo organ seo rival seo mirror seo walk seo fashion seo steak seo fiscal seo young seo lounge seo satoshi seo entry seo civil seo squirrel seo fitness seo put seo random seo custom seo chuckle seo relief seo steak seo fine seo visual seo olympic seo lunar seo love seo where seo flip seo between seo focus seo antenna seo shop seo climb seo mandate seo shoe seo reject seo hawk seo suffer seo chalk seo recycle seo exchange seo stem seo oval seo work seo cabbage seo hurry seo motion seo dignity seo token seo weapon seo acquire seo call seo mystery seo until seo ',\n",
    "         'area': None,\n",
    "         'privs': 0,\n",
    "         'gender': 'gender',\n",
    "         'birth_date': None,\n",
    "         'member_since': datetime.datetime(2018, 12, 28, 0, 3, 35, 5),\n",
    "         'email_confirm_date': datetime.datetime(2018, 12, 29, 2, 29, 6, 5),\n",
    "         'last_updated': None,\n",
    "         'last_login_date': datetime.datetime(2018, 12, 28, 20, 25, 53, 5)\n",
    "    }"
   ]
  },
  {
   "cell_type": "code",
   "execution_count": 18,
   "metadata": {},
   "outputs": [
    {
     "name": "stdout",
     "output_type": "stream",
     "text": [
      "**************************\n",
      "It's working\n"
     ]
    }
   ],
   "source": [
    "retrain_eval_dataset = preprocess_editor(eval_example_data,0)"
   ]
  },
  {
   "cell_type": "code",
   "execution_count": 19,
   "metadata": {},
   "outputs": [],
   "source": [
    "retrain_eval_dataset = np.array([retrain_eval_dataset])\n",
    "\n",
    "with open(\"retrain_eval_dataset.pickle\", \"wb\") as f:\n",
    "    pickle.dump(retrain_eval_dataset, f)"
   ]
  },
  {
   "cell_type": "code",
   "execution_count": 36,
   "metadata": {},
   "outputs": [],
   "source": [
    "# another example spam account for prediction \n",
    "predict_example_data = {}\n",
    "predict_example_data[0] = {'email': 'bbagfkh@deepemailbox.com',\n",
    "     'website': 'http://twitter.com',\n",
    "     'bio': 'reason seo install seo pencil seo hockey seo embody seo ill seo found seo assist seo health seo ranch seo club seo fish seo caution seo initial seo post seo panther seo despair seo safe seo regret seo heavy seo shock seo drink seo oven seo situate seo shed seo bargain seo term seo problem seo live seo scorpion seo biology seo finish seo tribe seo define seo extra seo place seo garden seo spoon seo talk seo magic seo school seo west seo few seo humor seo sock seo fox seo blur seo lesson seo frown seo truck seo blush seo primary seo limb seo winner seo brand seo fitness seo vacuum seo toss seo cook seo choose seo shed seo census seo walk seo grass seo need seo donkey seo decorate seo short seo worry seo act seo wide seo visa seo cheap seo fly seo input seo dry seo sand seo version seo train seo flower seo twice seo pioneer seo actress seo jazz seo enable seo skill seo razor seo company seo conduct seo enroll seo pool seo about seo script seo spend seo weasel seo drum seo desert seo rapid seo flat seo lucky seo muffin seo repeat seo ivory seo recycle seo tennis seo call seo abuse seo hello seo reform seo huge seo iron seo rent seo side seo coffee seo slab seo picnic seo kit seo retreat seo virus seo tunnel seo visit seo valley seo about seo scrap seo square seo between seo sort seo foam seo someone seo lunar seo wonder seo film seo salmon seo trial seo end seo edit seo never seo prepare seo because seo bind seo hand seo wear seo way seo marble seo gospel seo father seo begin seo average seo transfer seo mouse seo prize seo lab seo link seo clean seo kite seo broccoli seo chef seo monkey seo broken seo display seo manage seo net seo early seo equip seo box seo flower seo talent seo convince seo fortune seo ticket seo dutch seo inch seo execute seo zebra seo frost seo oxygen seo ahead seo puzzle seo crowd seo tennis seo frost seo belt seo sing seo rabbit seo puzzle seo target seo cover seo next seo above seo scrub seo pupil seo loan seo slide seo coconut seo audit seo laugh seo village seo nest seo debris seo derive seo region seo hollow seo possible seo minor seo digital seo canvas seo sheriff seo fork seo tobacco seo song seo attract seo ring seo wreck seo random seo bounce seo drill seo maple seo quantum seo need seo unveil seo surface seo spy seo decide seo cinnamon seo enter seo motion seo anger seo plate seo pumpkin seo brother seo harvest seo nominee seo obey seo win seo steak seo cash seo lawn seo fog seo resemble seo kit seo oven seo forest seo brand seo trial seo inch seo gentle seo speed seo rate seo trial seo solution seo evoke seo waste seo giant seo illness seo embark seo page seo fashion seo diet seo slide seo butter seo team seo winter seo student seo orbit seo flash seo shrimp seo anchor seo sausage seo neglect seo carry seo front seo core seo time seo auction seo furnace seo danger seo pole seo ill seo party seo now seo medal seo ritual seo ostrich seo issue seo boy seo auto seo omit seo stuff seo stairs seo hungry seo august seo whisper seo leopard seo poet seo local seo front seo sport seo pride seo major seo first seo clinic seo tomorrow seo thumb seo leader seo neck seo card seo street seo uncle seo share seo imitate seo broken seo scatter seo vendor seo fruit seo embark seo attack seo best seo screen seo push seo fat seo unveil seo never seo relax seo loan seo actress seo scene seo brother seo torch seo leisure seo capital seo allow seo charge seo few seo champion seo skin seo unfold seo bike seo close seo program seo any seo wool seo guide seo tackle seo best seo usage seo story seo car seo century seo involve seo cotton seo weapon seo shaft seo ride seo mixture seo stove seo extend seo good seo shaft seo east seo sister seo into seo heavy seo earn seo praise seo fence seo various seo ivory seo loud seo link seo mercy seo cliff seo tenant seo brown seo wall seo unfold seo scrap seo garment seo mosquito seo phrase seo fence seo system seo unfold seo weapon seo mask seo turn seo reunion seo balance seo wedding seo wish seo slice seo give seo bless seo light seo heart seo bargain seo slab seo brand seo depend seo cushion seo voyage seo once seo apart seo glare seo thunder seo wonder seo drink seo differ seo leopard seo drift seo snake seo anchor seo target seo attitude seo accuse seo bid seo hole seo track seo gas seo donkey seo filter seo always seo shadow seo broken seo sweet seo dry seo electric seo lion seo rack seo parent seo cost seo venue seo clinic seo rival seo coin seo world seo  www.spam.org  www.spam.org  www.spam.org ',\n",
    "     'area': None,\n",
    "     'privs': 0,\n",
    "     'gender': 'gender',\n",
    "     'birth_date': None,\n",
    "     'member_since': datetime.datetime(2007, 11, 28, 3, 20, 51, 5),\n",
    "     'email_confirm_date': datetime.datetime(2007, 11, 28, 20, 44, 41, 5),\n",
    "     'last_updated': datetime.datetime(2007, 11, 29, 3, 44, 0, 5),\n",
    "     'last_login_date': datetime.datetime(2007, 11, 28, 9, 43, 47, 5)}"
   ]
  },
  {
   "cell_type": "code",
   "execution_count": 37,
   "metadata": {},
   "outputs": [],
   "source": [
    "#  example non_spam account for prediction \n",
    "\n",
    "predict_example_data[1] = {'email': 'iechahi@aol.com',\n",
    "     'website': 'http://embreveaqui.indisciplinar.com',\n",
    "     'bio': 'tragic true grid custom switch fatigue atom term parrot borrow close great pistol snake hockey panda intact recipe top broccoli enough wealth fetch bring chalk media divorce dune dinner become then control now awesome spot amused wash sketch hat labor sauce hint spray mushroom cricket couple earth often bar junior token basket cancel innocent moon urge dilemma famous bird aisle turn pottery ready amazing skin april salute cat pulp tomato piano grape oppose bulb metal ',\n",
    "     'area': None,\n",
    "     'privs': 0,\n",
    "     'gender': None,\n",
    "     'birth_date': None,\n",
    "     'member_since': datetime.datetime(2019, 5, 11, 14, 24, 25, 5),\n",
    "     'email_confirm_date': datetime.datetime(2019, 5, 12, 10, 59, 37, 5),\n",
    "     'last_updated': None,\n",
    "     'last_login_date': datetime.datetime(2019, 5, 12, 10, 44, 34, 5)}"
   ]
  },
  {
   "cell_type": "code",
   "execution_count": 39,
   "metadata": {},
   "outputs": [
    {
     "name": "stdout",
     "output_type": "stream",
     "text": [
      "2\n"
     ]
    }
   ],
   "source": [
    "print(len(predict_example_data))"
   ]
  },
  {
   "cell_type": "code",
   "execution_count": 45,
   "metadata": {},
   "outputs": [
    {
     "name": "stdout",
     "output_type": "stream",
     "text": [
      "**************************\n",
      "It's working\n",
      "**************************\n",
      "It's working\n"
     ]
    }
   ],
   "source": [
    "retrain_predict_dataset = np.empty((2, 524))\n",
    "retrain_predict_dataset[0] = preprocess_editor(predict_example_data[0],0)\n",
    "retrain_predict_dataset[1] = preprocess_editor(predict_example_data[1],0)"
   ]
  },
  {
   "cell_type": "code",
   "execution_count": 46,
   "metadata": {},
   "outputs": [],
   "source": [
    "with open(\"retrain_predict_dataset.pickle\", \"wb\") as f:\n",
    "    pickle.dump(retrain_predict_dataset, f)"
   ]
  },
  {
   "cell_type": "code",
   "execution_count": null,
   "metadata": {},
   "outputs": [],
   "source": []
  }
 ],
 "metadata": {
  "kernelspec": {
   "display_name": "Python 3",
   "language": "python",
   "name": "python3"
  },
  "language_info": {
   "codemirror_mode": {
    "name": "ipython",
    "version": 3
   },
   "file_extension": ".py",
   "mimetype": "text/x-python",
   "name": "python",
   "nbconvert_exporter": "python",
   "pygments_lexer": "ipython3",
   "version": "3.7.4"
  }
 },
 "nbformat": 4,
 "nbformat_minor": 4
}
